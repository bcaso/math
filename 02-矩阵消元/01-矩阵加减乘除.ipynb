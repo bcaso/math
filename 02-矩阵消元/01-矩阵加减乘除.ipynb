{
 "cells": [
  {
   "cell_type": "markdown",
   "id": "6392cdf7",
   "metadata": {
    "heading_collapsed": true
   },
   "source": [
    "# 矩阵"
   ]
  },
  {
   "cell_type": "markdown",
   "id": "2ea72bfb",
   "metadata": {
    "hidden": true
   },
   "source": [
    "线性代数是向量计算的基础，很多重要的数学模型都要用到向量计算\n",
    "\n",
    "<b>矩阵的本质就是线性方程式，两者是一一对应关系。</b>如果从线性方程式的角度，理解矩阵乘法就毫无难度。"
   ]
  },
  {
   "cell_type": "markdown",
   "id": "3e6e33f1",
   "metadata": {
    "hidden": true,
    "tags": []
   },
   "source": [
    "$\n",
    "\\begin{equation}\n",
    "\\left\\{\n",
    "    \\begin{aligned}\n",
    "        2x + y = 3 \\\\ \n",
    "        4x + 3y = 7\n",
    "    \\end{aligned}\n",
    "\\right.\n",
    "\\end{equation}\n",
    "~\\\\\n",
    "矩阵最初的目的只是为线性方程组提供一个简写形式。 \\\\\n",
    "\\left( \\begin{array}{c}\n",
    "    \\begin{matrix}       % 矩阵开始\n",
    "        2&   1 \\\\\n",
    "        4&   3 \\\\\n",
    "    \\end{matrix}\\\\\n",
    "\\end{array} \\right)      % 矩阵结束\n",
    "\\left( \\begin{array}{c}\n",
    "    \\begin{matrix}\n",
    "        x \\\\\n",
    "        y \\\\\n",
    "    \\end{matrix}\\\\\n",
    "\\end{array} \\right) \n",
    "=\\left( \\begin{array}{c}\n",
    "    \\begin{matrix}\n",
    "        3 \\\\\n",
    "        7 \\\\\n",
    "    \\end{matrix}\\\\\n",
    "\\end{array} \\right) \n",
    "$"
   ]
  },
  {
   "cell_type": "markdown",
   "id": "c3fbfd93",
   "metadata": {
    "jp-MarkdownHeadingCollapsed": true,
    "tags": []
   },
   "source": [
    "# 矩阵加减法"
   ]
  },
  {
   "cell_type": "markdown",
   "id": "0dfad6ef",
   "metadata": {},
   "source": [
    "$令~A = [a_{ij}]~和~B = [b_{ij}]~为~m \\times n~矩阵。A~和~B~的和，记作~A + B,\\\\是其第~(i,j)~元素为~a_{ij} + b_{ij}~的矩阵。换言之，A + B = [a_{ij} + b_{ij}] \n",
    "~\\\\\n",
    "相同大小的两个矩阵的和是将它们对应位置上的元素相加得到的。不同大小的矩阵不能相加，\\\\因为两个矩阵的和只对行数和列数都一样的两个矩阵才有定义。\n",
    "$\n",
    "\n",
    "\n",
    "<hr>"
   ]
  },
  {
   "cell_type": "markdown",
   "id": "efbce729",
   "metadata": {
    "jupyter": {
     "source_hidden": true
    },
    "tags": []
   },
   "source": [
    "$例：\n",
    "\\left[ \\begin{array}{c}  % 矩阵开始\n",
    "    \\begin{matrix}\n",
    "        1&  0&  -1 \\\\\n",
    "        2&  2&  -3 \\\\\n",
    "        3&  4&   0 \\\\\n",
    "    \\end{matrix}\\\\\n",
    "\\end{array} \\right]      % 矩阵结束\n",
    "\\text{+}\n",
    "\\left[ \\begin{array}{c}\n",
    "    \\begin{matrix}       % 矩阵开始\n",
    "        3&   4&  -1 \\\\\n",
    "        1&  -3&   0 \\\\\n",
    "       -1&   1&   2 \\\\\n",
    "    \\end{matrix}\\\\\n",
    "\\end{array} \\right]      % 矩阵结束\n",
    "=\\left[ \\begin{array}{c}\n",
    "    \\begin{matrix}\n",
    "        4&   4&  -2\\\\\n",
    "        3&  -1&  -3\\\\\n",
    "        2&   5&   2\\\\\n",
    "    \\end{matrix}\\\\\n",
    "\\end{array} \\right] \n",
    "~\\\\\n",
    "~\\\\\n",
    "\\left[ \\begin{array}{c}  % 矩阵开始\n",
    "    \\begin{matrix}\n",
    "        1&  0&  -1 \\\\\n",
    "        2&  2&  -3 \\\\\n",
    "        3&  4&   0 \\\\\n",
    "    \\end{matrix}\\\\\n",
    "\\end{array} \\right]      % 矩阵结束\n",
    "\\text{-}\n",
    "\\left[ \\begin{array}{c}\n",
    "    \\begin{matrix}       % 矩阵开始\n",
    "        3&   4&  -1 \\\\\n",
    "        1&  -3&   0 \\\\\n",
    "       -1&   1&   2 \\\\\n",
    "    \\end{matrix}\\\\\n",
    "\\end{array} \\right]      % 矩阵结束\n",
    "=\\left[ \\begin{array}{c}\n",
    "    \\begin{matrix}\n",
    "       -2&  -4&  0  \\\\\n",
    "        1&   5& -3  \\\\\n",
    "        4&   3& -2  \\\\\n",
    "    \\end{matrix}\\\\\n",
    "\\end{array} \\right] \n",
    "$\n"
   ]
  },
  {
   "cell_type": "code",
   "execution_count": 54,
   "id": "cf899d3f",
   "metadata": {
    "collapsed": true,
    "jupyter": {
     "outputs_hidden": true,
     "source_hidden": true
    },
    "tags": []
   },
   "outputs": [
    {
     "name": "stdout",
     "output_type": "stream",
     "text": [
      "\n",
      "C: \n",
      " [[ 4  4 -2]\n",
      " [ 3 -1 -3]\n",
      " [ 2  5  2]]\n",
      "\n",
      "D: \n",
      " [[-2 -4  0]\n",
      " [ 1  5 -3]\n",
      " [ 4  3 -2]]\n"
     ]
    }
   ],
   "source": [
    "import numpy as np\n",
    "\n",
    "A = np.array([\n",
    "    [1,  0, -1],\n",
    "    [2,  2, -3],\n",
    "    [3,  4,  0],\n",
    "])\n",
    "\n",
    "B = np.array([\n",
    "    [3,  4,  -1],\n",
    "    [1,  -3,  0],\n",
    "    [-1,  1,  2],\n",
    "])\n",
    "\n",
    "\n",
    "C = np.add(A, B)\n",
    "D = np.subtract(A, B)\n",
    "\n",
    "print('\\nC: \\n', C)\n",
    "print('\\nD: \\n', D)"
   ]
  },
  {
   "cell_type": "markdown",
   "id": "9cff8e58",
   "metadata": {
    "tags": []
   },
   "source": [
    "# 矩阵所有元素之和"
   ]
  },
  {
   "cell_type": "markdown",
   "id": "9145c560",
   "metadata": {
    "tags": []
   },
   "source": [
    "$A =\n",
    "\\left[ \\begin{array}{c}  % 矩阵开始\n",
    "    \\begin{matrix}\n",
    "         2&  1&  1&  1 \\\\\n",
    "         1&  3&  1&  1 \\\\\n",
    "         1&  1&  2&  1 \\\\\n",
    "         1&  1&  1&  2 \\\\\n",
    "    \\end{matrix}\\\\\n",
    "\\end{array} \\right]      % 矩阵结束\n",
    "$"
   ]
  },
  {
   "cell_type": "markdown",
   "id": "ffa245f0",
   "metadata": {
    "tags": []
   },
   "source": [
    "$矩阵~A~中所有元素之和~= \\sum\\limits_{i=1}^{4}{\\sum\\limits_{j=1}^{4}{a_{ij}}}\\\\\n",
    "=\\sum\\limits_{i=1}^{4}\\Big{(}\\sum\\limits_{j=1}^{4}{a_{ij}}\\Big{)}~~~外层是行，i~from~1~to~4,~内层是(一行中的每一)列,j~from~1~to~4 \\\\\n",
    "= \\sum\\limits_{j=1}^{4}{a_{1j}} + \\sum\\limits_{j=1}^{4}{a_{2j}} + \\sum\\limits_{j=1}^{4}{a_{3j}}+ \\sum\\limits_{j=1}^{4}{a_{4j}} \\\\\n",
    "= (2+1+1+1) + (1+3+1+1) + (1+1+2+1) + (1+1+1+2) \\\\\n",
    "= 5 + 6 + 5 + 5\n",
    "= 21\n",
    "$"
   ]
  },
  {
   "cell_type": "code",
   "execution_count": 3,
   "id": "40d29ea6",
   "metadata": {
    "collapsed": true,
    "jupyter": {
     "outputs_hidden": true,
     "source_hidden": true
    },
    "tags": []
   },
   "outputs": [
    {
     "name": "stdout",
     "output_type": "stream",
     "text": [
      "21\n"
     ]
    }
   ],
   "source": [
    "import numpy as np\n",
    "\n",
    "A = np.array([\n",
    "    [2,1,1,1],\n",
    "    [1,3,1,1],\n",
    "    [1,1,2,1],\n",
    "    [1,1,1,2],\n",
    "])\n",
    "\n",
    "print(np.sum(A))"
   ]
  },
  {
   "cell_type": "markdown",
   "id": "30f4867d",
   "metadata": {
    "jp-MarkdownHeadingCollapsed": true,
    "tags": []
   },
   "source": [
    "# 矩阵对角线元素之和"
   ]
  },
  {
   "cell_type": "markdown",
   "id": "f3b63e9d",
   "metadata": {},
   "source": [
    "$A =\n",
    "\\left[ \\begin{array}{c}  % 矩阵开始\n",
    "    \\begin{matrix}\n",
    "         2&  1&  1&  1 \\\\\n",
    "         1&  3&  1&  1 \\\\\n",
    "         1&  1&  2&  1 \\\\\n",
    "         1&  1&  1&  2 \\\\\n",
    "    \\end{matrix}\\\\\n",
    "\\end{array} \\right]      % 矩阵结束\n",
    "$"
   ]
  },
  {
   "cell_type": "markdown",
   "id": "c4a366ee",
   "metadata": {},
   "source": [
    "$矩阵~A~中所有对角线元素之和~= \\sum\\limits_{i=1}^{4}{ii}\\\\\n",
    "= 2 + 3 + 2 + 2 \\\\\n",
    "= 9 \n",
    "$"
   ]
  },
  {
   "cell_type": "code",
   "execution_count": 4,
   "id": "92aed7a8",
   "metadata": {},
   "outputs": [
    {
     "name": "stdout",
     "output_type": "stream",
     "text": [
      "9\n"
     ]
    }
   ],
   "source": [
    "import numpy as np\n",
    "\n",
    "A = np.array([\n",
    "    [2,1,1,1],\n",
    "    [1,3,1,1],\n",
    "    [1,1,2,1],\n",
    "    [1,1,1,2],\n",
    "])\n",
    "\n",
    "print(np.trace(A))"
   ]
  },
  {
   "cell_type": "markdown",
   "id": "f91ad359",
   "metadata": {
    "heading_collapsed": true
   },
   "source": [
    "# 矩阵乘法"
   ]
  },
  {
   "cell_type": "markdown",
   "id": "79c775ce",
   "metadata": {
    "hidden": true
   },
   "source": [
    "$数学中，矩阵乘法（英语：matrix ~ multiplication）是一种根据两个矩阵得到第三个矩阵的二元运算，\\\\\n",
    "第三个矩阵即前两者的乘积，称为矩阵积（英语：matrix ~ product）。\\\\\n",
    "设~A~是~ n\\times m~的矩阵，B~是~ m\\times p~的矩阵，则它们的矩阵积~AB~是~n\\times p~的矩阵。\\\\\n",
    "A~中每一行的~m~个元素都与~B~中对应列的~m~个元素对应相乘，这些乘积的和就是~AB~中的一个元素。$\n",
    "\n",
    "\n",
    "$(AB)_{ij} = \\sum\\limits_{r=1}^{n}{a_{ir}b_{rj} = a_{i1}b_{1j} + a_{i2}b_{2j} + \\cdots + a_{in}b_{nj}}$"
   ]
  },
  {
   "cell_type": "markdown",
   "id": "9742ff20",
   "metadata": {
    "heading_collapsed": true,
    "hidden": true
   },
   "source": [
    "## 由定义直接计算(右乘)"
   ]
  },
  {
   "attachments": {
    "image.png": {
     "image/png": "[encoded data removed]"
    }
   },
   "cell_type": "markdown",
   "id": "a168aee9",
   "metadata": {
    "hidden": true,
    "tags": []
   },
   "source": [
    "![image.png](attachment:image.png)\n",
    "\n",
    "$上图表示出要如何计算~AB~的~(1,2)~和~(3,3)~元素，当~A~是个~ 4\\times 2~矩阵和~B~是个~2\\times 3~矩阵时。\\\\\n",
    "分别来自两个矩阵的元素都依箭头方向而两两配对，\\\\\n",
    "把每一对中的两个元素相乘，再把这些乘积加总起来，最后得到的值即为箭头相交位置的值。\\\\\n",
    "~\\\\\n",
    "~~~~~(AB)_{1,1} = \\sum\\limits_{r=1}^{1} a_{1,r}b_{r,1} = a_{1,1}b_{1,1} + a_{1,2}b_{1,2}\n",
    "~~~~~(AB)_{1,2} = \\sum\\limits_{r=1}^{2} a_{1,r}b_{r,2} = a_{1,1}b_{1,2} + a_{1,2}b_{2,2} \\\\\n",
    "~~~~~(AB)_{3,3} = \\sum\\limits_{r=3}^{3} a_{3,r}b_{r,3} = a_{3,1}b_{1,3} + a_{3,2}b_{2,3}$\n"
   ]
  },
  {
   "cell_type": "markdown",
   "id": "d07496da",
   "metadata": {
    "hidden": true
   },
   "source": [
    "\n",
    "$举个例子来说：(右乘)\\\\\n",
    "\\left[ \\begin{array}{c}  % 矩阵开始\n",
    "    \\begin{matrix}\n",
    "         1&  0&  2 \\\\\n",
    "        -1&  3&  1 \\\\\n",
    "    \\end{matrix}\\\\\n",
    "\\end{array} \\right]      % 矩阵结束\n",
    "\\cdot\n",
    "\\left[ \\begin{array}{c}\n",
    "    \\begin{matrix}       % 矩阵开始\n",
    "        3&   1 \\\\\n",
    "        2&   1 \\\\\n",
    "        1&   0 \\\\\n",
    "    \\end{matrix}\\\\\n",
    "\\end{array} \\right]      % 矩阵结束\n",
    "\\\\\n",
    "\\left[ \\begin{array}{c}\n",
    "    \\begin{matrix}       % 矩阵开始 [1,0,2] 乘 竖着的 3，2，1\n",
    "        \\left[ \\begin{array}{c}  % 内部 1 开始\n",
    "            \\begin{matrix}       % 矩阵开始\n",
    "                1&   0&  2 \\\\\n",
    "            \\end{matrix}\\\\   \n",
    "        \\end{array} \\right]      % 内部 1 结束\n",
    "        \\times\n",
    "        \\left[ \\begin{array}{c}  % 内部 2 开始\n",
    "            \\begin{matrix}       % 矩阵开始\n",
    "                3 \\\\\n",
    "                2 \\\\\n",
    "                1 \\\\\n",
    "            \\end{matrix}\\\\   \n",
    "        \\end{array} \\right]      % 内部 2 结束\n",
    "        % 另一侧          [1,0,2] 乘 竖着的 1,1,0\n",
    "        & \n",
    "        \\left[ \\begin{array}{c}  % 内部 1 开始\n",
    "            \\begin{matrix}       % 矩阵开始\n",
    "                1&   0&  2 \\\\\n",
    "            \\end{matrix}\\\\   \n",
    "        \\end{array} \\right]      % 内部 1 结束\n",
    "        \\times\n",
    "        \\left[ \\begin{array}{c}  % 内部 2 开始\n",
    "            \\begin{matrix}       % 矩阵开始\n",
    "                1 \\\\\n",
    "                1 \\\\\n",
    "                0 \\\\\n",
    "            \\end{matrix}\\\\   \n",
    "        \\end{array} \\right]      % 内部 2 结束\n",
    "        % 第二行  \n",
    "        & \\\\     % [-1,3,1] 乘 竖着的 3，2，1     \n",
    "        \\left[ \\begin{array}{c}  % 内部 1 开始\n",
    "            \\begin{matrix}       % 矩阵开始\n",
    "                -1&   3&  1 \\\\\n",
    "            \\end{matrix}\\\\   \n",
    "        \\end{array} \\right]      % 内部 1 结束\n",
    "        \\times\n",
    "        \\left[ \\begin{array}{c}  % 内部 2 开始\n",
    "            \\begin{matrix}       % 矩阵开始\n",
    "                3 \\\\\n",
    "                2 \\\\\n",
    "                1 \\\\\n",
    "            \\end{matrix}\\\\   \n",
    "        \\end{array} \\right]      % 内部 2 结束\n",
    "        % 另一侧\n",
    "        & % [-1,3,1] 乘 1,1,0\n",
    "        \\left[ \\begin{array}{c}  % 内部 1 开始\n",
    "            \\begin{matrix}       % 矩阵开始\n",
    "                -1&   3&  1 \\\\\n",
    "            \\end{matrix}\\\\   \n",
    "        \\end{array} \\right]      % 内部 1 结束\n",
    "        \\times\n",
    "        \\left[ \\begin{array}{c}  % 内部 2 开始\n",
    "            \\begin{matrix}       % 矩阵开始\n",
    "                1 \\\\\n",
    "                1 \\\\\n",
    "                0 \\\\\n",
    "            \\end{matrix}\\\\   \n",
    "        \\end{array} \\right]      % 内部 2 结束\n",
    "    \\end{matrix}\\\\   \n",
    "\\end{array} \\right]      % 矩阵结束\n",
    "=\\left[ \\begin{array}{c}\n",
    "    \\begin{matrix}\n",
    "        {1 \\times 3 + 0 \\times 2 + 2 \\times 1}  &  {1 \\times 1 + 0 \\times 1 + 2 \\times 0} \\\\\n",
    "        {-1 \\times 3 + 3 \\times 2 + 1 \\times 1} &  {-1 \\times 1 + 3 \\times 1 + 1 \\times 0} \\\\\n",
    "    \\end{matrix}\\\\\n",
    "\\end{array} \\right] \n",
    "=\\left[ \\begin{array}{c}\n",
    "    \\begin{matrix}\n",
    "        5 & 1 \\\\\n",
    "        4 & 2 \\\\\n",
    "    \\end{matrix}\\\\\n",
    "\\end{array} \\right] \n",
    "$"
   ]
  },
  {
   "attachments": {
    "image.png": {
     "image/png": "[encoded data removed]"
    }
   },
   "cell_type": "markdown",
   "id": "f4d40ceb",
   "metadata": {
    "hidden": true,
    "jupyter": {
     "source_hidden": true
    },
    "tags": []
   },
   "source": [
    "![image.png](attachment:image.png)"
   ]
  },
  {
   "cell_type": "code",
   "execution_count": 28,
   "id": "7a281f55",
   "metadata": {
    "collapsed": true,
    "hidden": true,
    "jupyter": {
     "outputs_hidden": true,
     "source_hidden": true
    },
    "tags": []
   },
   "outputs": [
    {
     "name": "stdout",
     "output_type": "stream",
     "text": [
      "[[5 1]\n",
      " [4 2]]\n",
      "\n",
      "C: \n",
      " [[5 1]\n",
      " [4 2]]\n"
     ]
    }
   ],
   "source": [
    "import numpy as np\n",
    "\n",
    "A = np.array([\n",
    "    [1,  0, 2],\n",
    "    [-1, 3, 1]\n",
    "])\n",
    "\n",
    "B = np.array([\n",
    "    [3,  1,],\n",
    "    [2,  1,],\n",
    "    [1,  0,],\n",
    "])\n",
    "\n",
    "print(A.dot(B))\n",
    "\n",
    "C = np.dot(A, B)\n",
    "\n",
    "print('\\nC: \\n', C)"
   ]
  },
  {
   "cell_type": "code",
   "execution_count": 2,
   "id": "4c355fc6",
   "metadata": {
    "collapsed": true,
    "hidden": true,
    "jupyter": {
     "outputs_hidden": true,
     "source_hidden": true
    },
    "tags": []
   },
   "outputs": [
    {
     "name": "stdout",
     "output_type": "stream",
     "text": [
      "[[2 1 1 1]\n",
      " [1 3 1 1]\n",
      " [1 1 2 1]\n",
      " [1 1 1 2]]\n",
      "\n",
      "C: \n",
      " [[2 1 1 1]\n",
      " [1 3 1 1]\n",
      " [1 1 2 1]\n",
      " [1 1 1 2]]\n"
     ]
    }
   ],
   "source": [
    "import numpy as np\n",
    "\n",
    "A = np.array([\n",
    "    [0,  1,  0,  1],\n",
    "    [1,  0,  1,  1],\n",
    "    [0,  1,  1,  0],\n",
    "    [1,  1,  0,  0],\n",
    "])\n",
    "\n",
    "print(A.dot(A))\n",
    "\n",
    "A_sqr = np.dot(A, A)\n",
    "\n",
    "print('\\nC: \\n', C)"
   ]
  },
  {
   "cell_type": "markdown",
   "id": "74adc67d",
   "metadata": {
    "hidden": true
   },
   "source": [
    "## 向量方法(左乘)"
   ]
  },
  {
   "attachments": {
    "image-2.png": {
     "image/png": "[encoded data removed]"
    },
    "image-3.png": {
     "image/png": "[encoded data removed]"
    },
    "image.png": {
     "image/png": "[encoded data removed]"
    }
   },
   "cell_type": "markdown",
   "id": "cae2b207",
   "metadata": {
    "hidden": true
   },
   "source": [
    "把向量和各系数相乘后相加起来。\n",
    "\n",
    "设 <b>A</b> 和 <b>B</b> 是两个给定如下的矩阵：\n",
    "\n",
    "![矩阵 A](attachment:image.png)\n",
    "\n",
    "![矩阵 B](attachment:image-2.png)\n",
    "\n",
    "则：\n",
    "\n",
    "![矩阵 AB](attachment:image-3.png)\n",
    "\n",
    "<hr>"
   ]
  },
  {
   "cell_type": "markdown",
   "id": "0e01ffa2",
   "metadata": {
    "hidden": true
   },
   "source": [
    "$举个例子来说(左乘)：\\\\\n",
    "\\left[ \\begin{array}{c}  % 矩阵开始\n",
    "    \\begin{matrix}\n",
    "         1&  0&  2 \\\\\n",
    "        -1&  3&  1 \\\\\n",
    "    \\end{matrix}\\\\\n",
    "\\end{array} \\right]      % 矩阵结束\n",
    "\\cdot\n",
    "\\left[ \\begin{array}{c}\n",
    "    \\begin{matrix}       % 矩阵开始\n",
    "        3&   1 \\\\\n",
    "        2&   1 \\\\\n",
    "        1&   0 \\\\\n",
    "    \\end{matrix}\\\\\n",
    "\\end{array} \\right]      % 矩阵结束\n",
    "\\\\\n",
    "\\underbrace{\n",
    "    =\\left[ \\begin{array}{c}\n",
    "        \\begin{matrix}\n",
    "                1[3,1] + 0[2,1] + 2[1,0] \\\\\n",
    "               -1[3,1] + 3[2,1] + 1[1,0] \\\\\n",
    "        \\end{matrix}\\\\\n",
    "    \\end{array} \\right] \n",
    "}_{嵌套乘法}\n",
    "\\\\\n",
    "\\underbrace{\n",
    "=\\left[ \\begin{array}{c}\n",
    "    \\begin{matrix}\n",
    "        [3,1]  + [0,0] + [2,0] \\\\\n",
    "       [-3,-1] + [6,3] + [1,0] \\\\\n",
    "    \\end{matrix}\\\\\n",
    "\\end{array} \\right] \n",
    "}_{嵌套加法}\n",
    "=\\left[ \\begin{array}{c}\n",
    "    \\begin{matrix}\n",
    "        5 & 1 \\\\\n",
    "        4 & 2 \\\\\n",
    "    \\end{matrix}\\\\\n",
    "\\end{array} \\right] \n",
    "$"
   ]
  },
  {
   "cell_type": "markdown",
   "id": "4d0d239f",
   "metadata": {
    "heading_collapsed": true,
    "hidden": true,
    "jp-MarkdownHeadingCollapsed": true,
    "tags": []
   },
   "source": [
    "## $AB \\ne BA$"
   ]
  },
  {
   "cell_type": "markdown",
   "id": "64d60080",
   "metadata": {
    "hidden": true
   },
   "source": [
    "矩阵乘法是不可交换的。\n",
    "\n",
    "$令~A = \\left[ \\begin{array}{c}  % 矩阵开始\n",
    "    \\begin{matrix}\n",
    "         1&  1 \\\\\n",
    "         2&  1 \\\\\n",
    "    \\end{matrix}\\\\\n",
    "\\end{array} \\right]      % 矩阵结束\n",
    "和~B = \\left[ \\begin{array}{c}  % 矩阵开始\n",
    "    \\begin{matrix}\n",
    "         2&  1 \\\\\n",
    "         1&  1 \\\\\n",
    "    \\end{matrix}\\\\\n",
    "\\end{array} \\right]      % 矩阵结束\n",
    "计算~AB,BA~的值。\n",
    "$"
   ]
  },
  {
   "cell_type": "markdown",
   "id": "4f51ca80",
   "metadata": {
    "hidden": true
   },
   "source": [
    "$解：AB = \\left[ \\begin{array}{c}  % 矩阵开始\n",
    "    \\begin{matrix}\n",
    "         3&  2 \\\\\n",
    "         5&  3 \\\\\n",
    "    \\end{matrix}\\\\\n",
    "\\end{array} \\right]      % 矩阵结束\n",
    "和~BA = \\left[ \\begin{array}{c}  % 矩阵开始\n",
    "    \\begin{matrix}\n",
    "         4&  3 \\\\\n",
    "         3&  2 \\\\\n",
    "    \\end{matrix}\\\\\n",
    "\\end{array} \\right]      % 矩阵结束\n",
    "$"
   ]
  },
  {
   "cell_type": "code",
   "execution_count": 67,
   "id": "93b3541b",
   "metadata": {
    "hidden": true
   },
   "outputs": [
    {
     "name": "stdout",
     "output_type": "stream",
     "text": [
      " AB = [[3 2]\n",
      " [5 3]] \n",
      " BA = [[4 3]\n",
      " [3 2]]\n"
     ]
    }
   ],
   "source": [
    "import numpy as np\n",
    "\n",
    "A = np.array([\n",
    "    [1,1],\n",
    "    [2,1],\n",
    "])\n",
    "\n",
    "B = np.array([\n",
    "    [2,1],\n",
    "    [1,1],\n",
    "])\n",
    "\n",
    "AB = np.dot(A,B)\n",
    "BA = np.dot(B,A)\n",
    "\n",
    "print(' AB =', AB, \n",
    "              '\\n', \n",
    "      'BA =', BA)\n",
    "\n"
   ]
  },
  {
   "cell_type": "markdown",
   "id": "dab6f91e",
   "metadata": {
    "heading_collapsed": true,
    "jp-MarkdownHeadingCollapsed": true,
    "tags": []
   },
   "source": [
    "# 转置矩阵"
   ]
  },
  {
   "cell_type": "markdown",
   "id": "96b2e12f",
   "metadata": {
    "hidden": true
   },
   "source": [
    "$\n",
    "在线性代数中，矩阵A的转置（英语：transpose）是另一个矩阵~A^T~(也写做A^{tr}, ~^tA~或~A'）由下列等价动作建立：\n",
    "\\\\\n",
    "把A的横行写为AT的纵列,  把A的纵列写为AT的横行 \\\\\n",
    "形式上说，m \\times n~矩阵~A~的转置是~n × m~矩阵 \\\\\n",
    "A^{T}_{ij} = A_{ji}~ for ~ 1 \\leq i \\leq n, 1 \\leq j \\leq m \\\\\n",
    "注意：A^T~(转置矩阵)~与~A^{-1}（逆矩阵）不同。\n",
    "$\n",
    "\n",
    "<hr>"
   ]
  },
  {
   "cell_type": "markdown",
   "id": "fd87fa68",
   "metadata": {
    "hidden": true
   },
   "source": [
    "$\\left[ \\begin{array}{c}  % 矩阵开始\n",
    "    \\begin{matrix}\n",
    "         1&  2 \\\\\n",
    "         3&  4 \\\\\n",
    "    \\end{matrix}\\\\\n",
    "\\end{array} \\right]^{T}      % 矩阵结束\n",
    "= \\left[ \\begin{array}{c}  % 矩阵开始\n",
    "    \\begin{matrix}\n",
    "         1&  3 \\\\\n",
    "         2&  4 \\\\\n",
    "    \\end{matrix}\\\\\n",
    "\\end{array} \\right]      % 矩阵结束\n",
    "~\\\\\n",
    "\\left[ \\begin{array}{c}  % 矩阵开始\n",
    "    \\begin{matrix}\n",
    "         1&  2 \\\\\n",
    "         3&  4 \\\\\n",
    "         5&  6 \\\\\n",
    "    \\end{matrix}\\\\\n",
    "\\end{array} \\right]^{T}      % 矩阵结束\n",
    "= \\left[ \\begin{array}{c}  % 矩阵开始\n",
    "    \\begin{matrix}\n",
    "         1&  3&  5 \\\\\n",
    "         2&  4&  6 \\\\\n",
    "    \\end{matrix}\\\\\n",
    "\\end{array} \\right]      % 矩阵结束\n",
    "$"
   ]
  },
  {
   "cell_type": "code",
   "execution_count": 72,
   "id": "68c16962",
   "metadata": {
    "hidden": true
   },
   "outputs": [
    {
     "name": "stdout",
     "output_type": "stream",
     "text": [
      " A_T = [[1 3]\n",
      " [2 4]] \n",
      " B_T = [[1 3 5]\n",
      " [2 4 6]]\n"
     ]
    }
   ],
   "source": [
    "# 转置实现方法一：T 属性\n",
    "import numpy as np\n",
    "\n",
    "A = np.array([\n",
    "    [1,2],\n",
    "    [3,4],\n",
    "])\n",
    "\n",
    "B = np.array([\n",
    "    [1,2],\n",
    "    [3,4],\n",
    "    [5,6],\n",
    "])\n",
    "\n",
    "A_T = A.T\n",
    "B_T = B.T\n",
    "\n",
    "print(' A_T =', A_T,\n",
    "     '\\n',\n",
    "     'B_T =', B_T,)"
   ]
  },
  {
   "cell_type": "code",
   "execution_count": 73,
   "id": "e198a3be",
   "metadata": {
    "hidden": true
   },
   "outputs": [
    {
     "name": "stdout",
     "output_type": "stream",
     "text": [
      " A_T = [[1 3]\n",
      " [2 4]] \n",
      " B_T = [[1 3 5]\n",
      " [2 4 6]]\n"
     ]
    }
   ],
   "source": [
    "# 转置实现方法二：transpose 方法\n",
    "import numpy as np\n",
    "\n",
    "A = np.array([\n",
    "    [1,2],\n",
    "    [3,4],\n",
    "])\n",
    "\n",
    "B = np.array([\n",
    "    [1,2],\n",
    "    [3,4],\n",
    "    [5,6],\n",
    "])\n",
    "\n",
    "A_T = A.transpose()\n",
    "B_T = B.transpose()\n",
    "\n",
    "print(' A_T =', A_T,\n",
    "     '\\n',\n",
    "     'B_T =', B_T,)"
   ]
  },
  {
   "cell_type": "code",
   "execution_count": 74,
   "id": "3e639e4b",
   "metadata": {
    "hidden": true
   },
   "outputs": [],
   "source": [
    "# 转置实现方法三：transpose 方法\n",
    "import numpy as np\n",
    "\n",
    "# 待实规"
   ]
  },
  {
   "cell_type": "markdown",
   "id": "c9350c39",
   "metadata": {
    "heading_collapsed": true,
    "jp-MarkdownHeadingCollapsed": true,
    "tags": []
   },
   "source": [
    "# 矩阵的逆"
   ]
  },
  {
   "cell_type": "code",
   "execution_count": 75,
   "id": "5bb3e339",
   "metadata": {
    "hidden": true
   },
   "outputs": [
    {
     "name": "stdout",
     "output_type": "stream",
     "text": [
      "[[-2.   1. ]\n",
      " [ 1.5 -0.5]]\n"
     ]
    }
   ],
   "source": [
    "import numpy as np\n",
    "\n",
    "A = np.array([\n",
    "    [1,2],\n",
    "    [3,4],\n",
    "])\n",
    "\n",
    "A_inverse = np.linalg.inv(A)\n",
    "\n",
    "print(A_inverse)"
   ]
  },
  {
   "cell_type": "markdown",
   "id": "d9eee232",
   "metadata": {
    "heading_collapsed": true,
    "jp-MarkdownHeadingCollapsed": true,
    "tags": []
   },
   "source": [
    "# 转置与逆的区别"
   ]
  },
  {
   "cell_type": "markdown",
   "id": "87dc3fde",
   "metadata": {
    "hidden": true
   },
   "source": [
    "转置就是把矩阵的行和列交换，第一行变为第一列，第二行变为第二列，等等。\n",
    "\n",
    "而逆矩阵就是和原来的矩阵乘起来等于单位阵E，这一点相当于一个数的倒数，和原来的数相乘等于1。\n"
   ]
  },
  {
   "cell_type": "markdown",
   "id": "b1be351f",
   "metadata": {},
   "source": [
    "# 参考\n",
    "\n",
    "\"离散数学及其应用 原书第7版 （美）KENNETH H.ROSI\"\\_\"2.6 矩阵\"\n",
    "\n",
    "[矩阵乘法 zh.wikipedia.org/zh-cn/矩阵乘法](https://zh.wikipedia.org/zh-cn/矩阵乘法)\n",
    "\n",
    "[矩阵乘法，numpy 库使用 zhuanlan.zhihu.com/p/377320032](https://zhuanlan.zhihu.com/p/377320032)\n",
    "\n",
    "[矩阵乘法，numpy 库使用 zhuanlan.zhihu.com/p/33434018](https://zhuanlan.zhihu.com/p/33434018)\n",
    "\n",
    "[转置矩阵 zh.wikipedia.org/zh-cn/转置矩阵](https://zh.wikipedia.org/zh-cn/转置矩阵)\n",
    "\n",
    "[numpy 库转置矩阵 zhuanlan.zhihu.com/p/33274669](https://zhuanlan.zhihu.com/p/33274669)"
   ]
  }
 ],
 "metadata": {
  "kernelspec": {
   "display_name": "Python 3 (ipykernel)",
   "language": "python",
   "name": "python3"
  },
  "language_info": {
   "codemirror_mode": {
    "name": "ipython",
    "version": 3
   },
   "file_extension": ".py",
   "mimetype": "text/x-python",
   "name": "python",
   "nbconvert_exporter": "python",
   "pygments_lexer": "ipython3",
   "version": "3.9.0"
  },
  "toc": {
   "base_numbering": 1,
   "nav_menu": {},
   "number_sections": true,
   "sideBar": false,
   "skip_h1_title": false,
   "title_cell": "Table of Contents",
   "title_sidebar": "Contents",
   "toc_cell": false,
   "toc_position": {},
   "toc_section_display": true,
   "toc_window_display": false
  }
 },
 "nbformat": 4,
 "nbformat_minor": 5
}
