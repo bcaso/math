{
 "cells": [
  {
   "cell_type": "markdown",
   "id": "ed44c8b6-9c07-4a11-b6e9-4fcd28cbe108",
   "metadata": {
    "jupyter": {
     "source_hidden": true
    },
    "tags": []
   },
   "source": [
    "# 02-矩阵消元(高斯消元法)"
   ]
  },
  {
   "cell_type": "markdown",
   "id": "4b9abe9a-98ee-4c75-ac05-f86fbe412c33",
   "metadata": {
    "jupyter": {
     "source_hidden": true
    },
    "slideshow": {
     "slide_type": "slide"
    },
    "tags": []
   },
   "source": [
    "## 1、Overview (概述)"
   ]
  },
  {
   "cell_type": "markdown",
   "id": "4e28b766-12f1-4a25-9fab-dc7759568a9e",
   "metadata": {
    "jupyter": {
     "source_hidden": true
    },
    "tags": []
   },
   "source": [
    "在本节中，我们主要介绍 <b>消元法 (Elimination)</b> ，也就是我们在上一节中提到的 “系统化” 求解方程所用的方法。通过矩阵的消元运算可以很轻松地求解复杂方程。\n",
    "\n",
    "后半部分还介绍了 <b>消元矩阵</b>，即我们的消元运算在矩阵乘法中所表现的形式。并从消元矩阵引入，介绍了一些 <b>逆矩阵</b> 的基础知识。"
   ]
  },
  {
   "cell_type": "markdown",
   "id": "3ebaa6e5-554a-4ab3-b149-4a4e70166c4d",
   "metadata": {
    "jupyter": {
     "source_hidden": true
    },
    "tags": []
   },
   "source": [
    "## 2、使用 消元法 求解方程"
   ]
  },
  {
   "cell_type": "markdown",
   "id": "e0c34672-8dee-404d-928e-13fd72b56ce0",
   "metadata": {
    "jp-MarkdownHeadingCollapsed": true,
    "jupyter": {
     "source_hidden": true
    },
    "tags": []
   },
   "source": [
    "### 2.1、消元法介绍"
   ]
  },
  {
   "cell_type": "markdown",
   "id": "662c3fc5-337c-4dbc-bc19-8c3679bd688a",
   "metadata": {
    "tags": []
   },
   "source": [
    "能够使用消元法分为以下 2 种情况: \n",
    "* 成功: 矩阵的主元不包含 0， 也就是说，可逆矩阵。\n",
    "* 失败: 举着的主元有至少一个 0，也就是说，不可逆矩阵。\n",
    "\n",
    "对于一些 “好” 的系数矩阵（可逆矩阵） A 来说，我们可以使用消元法来求解方程 <b>Ax=b</b> ，我们还是从一个例子谈起。\n",
    "\n",
    "![例一三元方程组](../images/02/LA_2_1.png)\n",
    "\n",
    "我们仍然使用矩阵计算，将方程写为矩阵形式 <b>Ax=b</b> 。如下: \n",
    "\n",
    "![三维矩阵](../images/02/LA_2_2.png)\n",
    "\n",
    "所谓矩阵的消元法，其实与我们在初等数学中学习的解二元一次方程组的消元法同理，都是通过将不同行的方程进行消元运算来简化方程，最后能得到简化的方程组。只不过这里我们把 <b>系数</b> 单独抽出来进行运算，寻找一种 <b>矩阵</b> 情况下的普遍规律而已。\n",
    "\n",
    "![系数矩阵消元1](../images/02/LA_2_3.jpg)\n",
    "\n",
    "第一行中的主元不变，第二行的 x 变为 0\n",
    "\n",
    "$row_2 = row_2 - 3\\cdot row_1$\n",
    "\n",
    "![系数矩阵消元2](../images/02/LA_2_4.jpg)\n",
    "\n",
    "$row_3 = row_3 - 2 \\cdot row_2$\n",
    "\n",
    "![系数矩阵消元3](../images/02/LA_2_5.jpg)\n",
    "\n",
    "```\n",
    "注：\n",
    "\n",
    "并不是所有的 A 矩阵都可消元处理，需要注意在我们消元过程中，如果主元位置（左上角）为 0，\n",
    "那么意味着这个主元不可取，需要进行 “换行” 处理：\n",
    "\n",
    "首先看它的下一行对应位置是不是 0，如果不是，就将这两行位置互换，将非零数视为主元。\n",
    "如果是，就再看下下行，以此类推。若其下面每一行都看到了，仍然没有非零数的话，那就意味着这个矩阵不可逆，\n",
    "消元法求出的解不唯一。\n",
    "```\n",
    "\n",
    "下面是 3 个例子: \n",
    "\n",
    "![3 个例子](../images/02/LA_2_6.png)\n",
    "\n",
    "第一个例子中的 x 为 0，主元为0，需要进行 <b>行交换</b>，即把第一行与其他行交换位置，使其 x 不为 0.\n",
    "\n",
    "第二个例子中的主元为 0，但是没有可交换的行。不能使用之前的行做交换。\n",
    "\n",
    "第三个例子中的主元为 0，因为是最后一行，也没有可交换的行。\n",
    "\n",
    "所以，对于后两个例子，消元法失效。"
   ]
  },
  {
   "cell_type": "markdown",
   "id": "1b5eaab1-464b-4952-a3f1-ce0b0bc0b0d7",
   "metadata": {
    "jp-MarkdownHeadingCollapsed": true,
    "tags": []
   },
   "source": [
    "### 2.2、回带求解(增广矩阵)"
   ]
  },
  {
   "cell_type": "markdown",
   "id": "17e2f0c9-c273-4811-abd9-64c0786cc7e9",
   "metadata": {},
   "source": [
    "其实回带求解应该和消元法同时进行，只不过在我们讲解的时候以及在一些软件工作原理中它们是先后进行的，所以我们这里分开讨论，下面我们首先介绍—— **增广矩阵**。\n",
    "\n",
    "仍然是上面例一中我们给出的方程， \n",
    "\n",
    "![三维矩阵](../images/02/LA_2_2.png) ，\n",
    "\n",
    "我们接下来首先给出 **增广矩阵** 形式: \n",
    "\n",
    "![增广矩阵](../images/02/LA_2_7.png)\n",
    "\n",
    "可以一下就看出来，**增广矩阵** 就是把 **系数矩阵 A** 和 **向量 b** 拼接成一个矩阵就行了。\n",
    "\n",
    "![增广矩阵的形成](../images/02/LA_2_8.png)\n",
    "\n",
    "从上向下开始求解，很容易求出 **x, y, z** 的值了。\n",
    "\n",
    "$row_2 = row_2 - 3 \\cdot row_1 \\\\\n",
    "row_3 = row_3 - 2 \\cdot row_2$\n"
   ]
  },
  {
   "cell_type": "markdown",
   "id": "0cf66d08-f1be-47ea-b40a-fab5f828a236",
   "metadata": {
    "tags": []
   },
   "source": [
    "## 3、消元矩阵"
   ]
  },
  {
   "cell_type": "markdown",
   "id": "5e4e97af-eaf8-4aef-864f-c1b2950501c4",
   "metadata": {
    "tags": []
   },
   "source": [
    "### 3.1、行向量与矩阵乘法"
   ]
  },
  {
   "cell_type": "markdown",
   "id": "044985c6-3a09-418b-9733-b0bb9b3d9fb3",
   "metadata": {
    "jupyter": {
     "source_hidden": true
    },
    "tags": []
   },
   "source": [
    "上面的消元法是从简单的变换角度介绍了消元的具体操作，接下来我们需要用矩阵来表示变换的步骤，这也十分有必要，因为这是一种 “系统地” 变换矩阵的方法。\n",
    "\n",
    "![系统变换矩阵的方法](../images/02/LA_2_9.png)\n",
    "\n",
    "导致错误。其实学过矩阵之间的乘法之后这些东西都极为简单，但这里还是建议大家尽量从向量的角度去考虑问题。\n",
    "\n",
    "所以，<b>左乘</b> 是对右边的矩阵做<b>行变换</b>，<b>右乘</b> 是对左边的矩阵做<b>列变换</b>。"
   ]
  },
  {
   "cell_type": "markdown",
   "id": "e643f8ba-511e-4dc9-b121-71be1a6a137e",
   "metadata": {},
   "source": [
    "$举个例子来说(左乘)：\\\\\n",
    "\\left[ \\begin{array}{c}  % 矩阵开始\n",
    "    \\begin{matrix}\n",
    "         1&  0&  2 \\\\\n",
    "        -1&  3&  1 \\\\\n",
    "    \\end{matrix}\\\\\n",
    "\\end{array} \\right]      % 矩阵结束\n",
    "\\cdot\n",
    "\\left[ \\begin{array}{c}\n",
    "    \\begin{matrix}       % 矩阵开始\n",
    "        3&   1 \\\\\n",
    "        2&   1 \\\\\n",
    "        1&   0 \\\\\n",
    "    \\end{matrix}\\\\\n",
    "\\end{array} \\right]      % 矩阵结束\n",
    "\\\\\n",
    "\\underbrace{\n",
    "    =\\left[ \\begin{array}{c}\n",
    "        \\begin{matrix}\n",
    "                1[3,1] + 0[2,1] + 2[1,0] \\\\\n",
    "               -1[3,1] + 3[2,1] + 1[1,0] \\\\\n",
    "        \\end{matrix}\\\\\n",
    "    \\end{array} \\right] \n",
    "}_{嵌套乘法}\n",
    "\\\\\n",
    "\\underbrace{\n",
    "=\\left[ \\begin{array}{c}\n",
    "    \\begin{matrix}\n",
    "        [3,1]  + [0,0] + [2,0] \\\\\n",
    "       [-3,-1] + [6,3] + [1,0] \\\\\n",
    "    \\end{matrix}\\\\\n",
    "\\end{array} \\right] \n",
    "}_{嵌套加法}\n",
    "=\\left[ \\begin{array}{c}\n",
    "    \\begin{matrix}\n",
    "        5 & 1 \\\\\n",
    "        4 & 2 \\\\\n",
    "    \\end{matrix}\\\\\n",
    "\\end{array} \\right] \n",
    "$"
   ]
  },
  {
   "cell_type": "markdown",
   "id": "6bd63001-8778-45db-9a91-4619eecae79a",
   "metadata": {},
   "source": [
    "$举个例子来说：(右乘)\\\\\n",
    "\\left[ \\begin{array}{c}  % 矩阵开始\n",
    "    \\begin{matrix}\n",
    "         1&  0&  2 \\\\\n",
    "        -1&  3&  1 \\\\\n",
    "    \\end{matrix}\\\\\n",
    "\\end{array} \\right]      % 矩阵结束\n",
    "\\cdot\n",
    "\\left[ \\begin{array}{c}\n",
    "    \\begin{matrix}       % 矩阵开始\n",
    "        3&   1 \\\\\n",
    "        2&   1 \\\\\n",
    "        1&   0 \\\\\n",
    "    \\end{matrix}\\\\\n",
    "\\end{array} \\right]      % 矩阵结束\n",
    "\\\\\n",
    "\\left[ \\begin{array}{c}\n",
    "    \\begin{matrix}       % 矩阵开始 [1,0,2] 乘 竖着的 3，2，1\n",
    "        \\left[ \\begin{array}{c}  % 内部 1 开始\n",
    "            \\begin{matrix}       % 矩阵开始\n",
    "                1&   0&  2 \\\\\n",
    "            \\end{matrix}\\\\   \n",
    "        \\end{array} \\right]      % 内部 1 结束\n",
    "        \\times\n",
    "        \\left[ \\begin{array}{c}  % 内部 2 开始\n",
    "            \\begin{matrix}       % 矩阵开始\n",
    "                3 \\\\\n",
    "                2 \\\\\n",
    "                1 \\\\\n",
    "            \\end{matrix}\\\\   \n",
    "        \\end{array} \\right]      % 内部 2 结束\n",
    "        % 另一侧          [1,0,2] 乘 竖着的 1,1,0\n",
    "        & \n",
    "        \\left[ \\begin{array}{c}  % 内部 1 开始\n",
    "            \\begin{matrix}       % 矩阵开始\n",
    "                1&   0&  2 \\\\\n",
    "            \\end{matrix}\\\\   \n",
    "        \\end{array} \\right]      % 内部 1 结束\n",
    "        \\times\n",
    "        \\left[ \\begin{array}{c}  % 内部 2 开始\n",
    "            \\begin{matrix}       % 矩阵开始\n",
    "                1 \\\\\n",
    "                1 \\\\\n",
    "                0 \\\\\n",
    "            \\end{matrix}\\\\   \n",
    "        \\end{array} \\right]      % 内部 2 结束\n",
    "        % 第二行  \n",
    "        & \\\\     % [-1,3,1] 乘 竖着的 3，2，1     \n",
    "        \\left[ \\begin{array}{c}  % 内部 1 开始\n",
    "            \\begin{matrix}       % 矩阵开始\n",
    "                -1&   3&  1 \\\\\n",
    "            \\end{matrix}\\\\   \n",
    "        \\end{array} \\right]      % 内部 1 结束\n",
    "        \\times\n",
    "        \\left[ \\begin{array}{c}  % 内部 2 开始\n",
    "            \\begin{matrix}       % 矩阵开始\n",
    "                3 \\\\\n",
    "                2 \\\\\n",
    "                1 \\\\\n",
    "            \\end{matrix}\\\\   \n",
    "        \\end{array} \\right]      % 内部 2 结束\n",
    "        % 另一侧\n",
    "        & % [-1,3,1] 乘 1,1,0\n",
    "        \\left[ \\begin{array}{c}  % 内部 1 开始\n",
    "            \\begin{matrix}       % 矩阵开始\n",
    "                -1&   3&  1 \\\\\n",
    "            \\end{matrix}\\\\   \n",
    "        \\end{array} \\right]      % 内部 1 结束\n",
    "        \\times\n",
    "        \\left[ \\begin{array}{c}  % 内部 2 开始\n",
    "            \\begin{matrix}       % 矩阵开始\n",
    "                1 \\\\\n",
    "                1 \\\\\n",
    "                0 \\\\\n",
    "            \\end{matrix}\\\\   \n",
    "        \\end{array} \\right]      % 内部 2 结束\n",
    "    \\end{matrix}\\\\   \n",
    "\\end{array} \\right]      % 矩阵结束\n",
    "\\\\\n",
    "=\\left[ \\begin{array}{c}\n",
    "    \\begin{matrix}\n",
    "        {1 \\times 3 + 0 \\times 2 + 2 \\times 1}  &  {1 \\times 1 + 0 \\times 1 + 2 \\times 0} \\\\\n",
    "        {-1 \\times 3 + 3 \\times 2 + 1 \\times 1} &  {-1 \\times 1 + 3 \\times 1 + 1 \\times 0} \\\\\n",
    "    \\end{matrix}\\\\\n",
    "\\end{array} \\right] \n",
    "=\\left[ \\begin{array}{c}\n",
    "    \\begin{matrix}\n",
    "        5 & 1 \\\\\n",
    "        4 & 2 \\\\\n",
    "    \\end{matrix}\\\\\n",
    "\\end{array} \\right] \n",
    "$"
   ]
  },
  {
   "cell_type": "markdown",
   "id": "686fcb6e-f1a6-48ae-a05a-0c855fb4292a",
   "metadata": {
    "tags": []
   },
   "source": [
    "### 3.2、消元矩阵介绍"
   ]
  },
  {
   "cell_type": "markdown",
   "id": "861fd7a4-4474-4029-bd7a-2ccd4425e903",
   "metadata": {},
   "source": [
    "\n",
    "好的，接下来是重点。学会了行向量与矩阵之间的乘法，我们就可以使用行向量对矩阵的行做操作了。所谓 **消元矩阵，就是将消元过程中的行变换转化为矩阵之间的乘法形式**。\n",
    "\n",
    "下图都是左乘，结果全为 0 的行被隐藏。\n",
    "\n",
    "![消元矩阵](../images/02/LA_2_10.png)"
   ]
  },
  {
   "cell_type": "markdown",
   "id": "c4439a8c-583d-410b-b404-04d5adad7abb",
   "metadata": {},
   "source": [
    "$ \\left[ \\begin{array}{c}  % 矩阵开始\n",
    "    \\begin{matrix}\n",
    "         1&  0&  0 \\\\\n",
    "         0&  1&  0 \\\\\n",
    "         0&  0&  1 \\\\\n",
    "    \\end{matrix}\\\\\n",
    "\\end{array} \\right]      % 矩阵结束\n",
    "\\cdot\n",
    "\\left[ \\begin{array}{c}\n",
    "    \\begin{matrix}       % 矩阵开始\n",
    "        1&   2&  1 \\\\\n",
    "        3&   8&  1 \\\\\n",
    "        0&   4&  1 \\\\\n",
    "    \\end{matrix}\\\\\n",
    "\\end{array} \\right]      % 矩阵结束\n",
    "\\\\\n",
    "\\underbrace{\n",
    "    =\\left[ \\begin{array}{c}\n",
    "        \\begin{matrix}\n",
    "                1[1,2,1] + 0[3,8,1] + 0[0,4,1] \\\\\n",
    "                0[1,2,1] + 1[3,8,1] + 0[0,4,1] \\\\\n",
    "                0[1,2,1] + 0[3,8,1] + 1[0,4,1] \\\\\n",
    "        \\end{matrix}\\\\\n",
    "    \\end{array} \\right] \n",
    "}_{嵌套乘法} \\\\\n",
    "= \\left[ \\begin{array}{c}\n",
    "    \\begin{matrix}       % 矩阵开始\n",
    "        1&   2&  1 \\\\\n",
    "        3&   8&  1 \\\\\n",
    "        0&   4&  1 \\\\\n",
    "    \\end{matrix}\\\\\n",
    "\\end{array} \\right]      % 矩阵结束\n",
    "$"
   ]
  },
  {
   "cell_type": "markdown",
   "id": "f81cc7d3-fe3e-49be-a0af-6edd1389fe2e",
   "metadata": {
    "jupyter": {
     "source_hidden": true
    },
    "tags": []
   },
   "source": [
    "我们消元过程是将第一行 乘以 -3 加到 第二行，这是对第二行的操作，那么就从单位阵的第二行着手: \n",
    "\n",
    "![消元过程](../images/02/LA_2_11.png)"
   ]
  },
  {
   "cell_type": "markdown",
   "id": "5e7cf0c3-1e39-4e3c-8dbd-59a9eaf89cb0",
   "metadata": {
    "tags": []
   },
   "source": [
    "### 3.3.1、行变换和列变换"
   ]
  },
  {
   "cell_type": "markdown",
   "id": "2f6d0481-b929-433b-aeae-1bdbbe33084b",
   "metadata": {},
   "source": [
    "\n",
    "![行变换与列变换](../images/02/LA_2_12.png)"
   ]
  },
  {
   "cell_type": "markdown",
   "id": "48aa06f4-447a-481c-a2ff-778505932014",
   "metadata": {},
   "source": [
    "$行变换，左乘 \\\\\n",
    "\\left[ \\begin{array}{c}  % 矩阵开始\n",
    "    \\begin{matrix}\n",
    "         0&  1 \\\\\n",
    "         1&  0 \\\\\n",
    "    \\end{matrix}\\\\\n",
    "\\end{array} \\right]      % 矩阵结束\n",
    "\\cdot\n",
    "\\left[ \\begin{array}{c}\n",
    "    \\begin{matrix}       % 矩阵开始\n",
    "        a&   b \\\\\n",
    "        c&   d \\\\\n",
    "    \\end{matrix}\\\\\n",
    "\\end{array} \\right]      % 矩阵结束\n",
    "\\\\\n",
    "\\underbrace{\n",
    "    =\\left[ \\begin{array}{c}\n",
    "        \\begin{matrix}\n",
    "                0[a,b] + 1[c,d] \\\\\n",
    "                1[a,b] + 0[c,d] \\\\\n",
    "        \\end{matrix}\\\\\n",
    "    \\end{array} \\right] \n",
    "}_{嵌套乘法} \\\\\n",
    "= \\left[ \\begin{array}{c}\n",
    "    \\begin{matrix}       % 矩阵开始\n",
    "        c&   d \\\\\n",
    "        a&   b \\\\\n",
    "    \\end{matrix}\\\\\n",
    "\\end{array} \\right]      % 矩阵结束\n",
    "$"
   ]
  },
  {
   "cell_type": "markdown",
   "id": "3e88881d-5074-4ef7-bd14-f22323aad88c",
   "metadata": {},
   "source": [
    "$列变换，右乘 \\\\\n",
    "\\left[ \\begin{array}{c}  % 矩阵开始\n",
    "    \\begin{matrix}\n",
    "         a&  b \\\\\n",
    "         c&  d \\\\\n",
    "    \\end{matrix}\\\\\n",
    "\\end{array} \\right]      % 矩阵结束\n",
    "\\cdot\n",
    "\\left[ \\begin{array}{c}\n",
    "    \\begin{matrix}       % 矩阵开始\n",
    "        0&   1 \\\\\n",
    "        1&   0 \\\\\n",
    "    \\end{matrix}\\\\\n",
    "\\end{array} \\right]      % 矩阵结束\n",
    "\\\\\n",
    "\\left[ \\begin{array}{c}\n",
    "    \\begin{matrix}       % 矩阵开始 [a,b] 乘 竖着的 0,1\n",
    "        \\left[ \\begin{array}{c}  % 内部 1 开始\n",
    "            \\begin{matrix}       % 矩阵开始\n",
    "                a&   b \\\\\n",
    "            \\end{matrix}\\\\   \n",
    "        \\end{array} \\right]      % 内部 1 结束\n",
    "        \\times\n",
    "        \\left[ \\begin{array}{c}  % 内部 2 开始\n",
    "            \\begin{matrix}       % 矩阵开始\n",
    "                0 \\\\\n",
    "                1 \\\\\n",
    "            \\end{matrix}\\\\   \n",
    "        \\end{array} \\right]      % 内部 2 结束\n",
    "        % 另一侧          [a,b] 乘 竖着的 1,0\n",
    "        & \n",
    "        \\left[ \\begin{array}{c}  % 内部 1 开始\n",
    "            \\begin{matrix}       % 矩阵开始\n",
    "                a&   b \\\\\n",
    "            \\end{matrix}\\\\   \n",
    "        \\end{array} \\right]      % 内部 1 结束\n",
    "        \\times\n",
    "        \\left[ \\begin{array}{c}  % 内部 2 开始\n",
    "            \\begin{matrix}       % 矩阵开始\n",
    "                1 \\\\\n",
    "                0 \\\\\n",
    "            \\end{matrix}\\\\   \n",
    "        \\end{array} \\right]      % 内部 2 结束\n",
    "        % 第二行  \n",
    "        & \\\\     % [c,d] 乘 竖着的 0,1\n",
    "        \\left[ \\begin{array}{c}  % 内部 1 开始\n",
    "            \\begin{matrix}       % 矩阵开始\n",
    "                c&  d \\\\\n",
    "            \\end{matrix}\\\\   \n",
    "        \\end{array} \\right]      % 内部 1 结束\n",
    "        \\times\n",
    "        \\left[ \\begin{array}{c}  % 内部 2 开始\n",
    "            \\begin{matrix}       % 矩阵开始\n",
    "                0 \\\\\n",
    "                1 \\\\\n",
    "            \\end{matrix}\\\\   \n",
    "        \\end{array} \\right]      % 内部 2 结束\n",
    "        % 另一侧\n",
    "        & % [cd] 乘 1,0\n",
    "        \\left[ \\begin{array}{c}  % 内部 1 开始\n",
    "            \\begin{matrix}       % 矩阵开始\n",
    "                c&   d \\\\\n",
    "            \\end{matrix}\\\\   \n",
    "        \\end{array} \\right]      % 内部 1 结束\n",
    "        \\times\n",
    "        \\left[ \\begin{array}{c}  % 内部 2 开始\n",
    "            \\begin{matrix}       % 矩阵开始\n",
    "                1 \\\\\n",
    "                0 \\\\\n",
    "            \\end{matrix}\\\\   \n",
    "        \\end{array} \\right]      % 内部 2 结束\n",
    "    \\end{matrix}\\\\   \n",
    "\\end{array} \\right]      % 矩阵结束\n",
    "\\\\\n",
    "=\\left[ \\begin{array}{c}\n",
    "    \\begin{matrix}\n",
    "        {a \\times 0 + b \\times 1}  &  {a \\times 1 + b \\times 0} \\\\\n",
    "        {c \\times 0 + d \\times 1}  &  {c \\times 1 + d \\times 0} \\\\\n",
    "    \\end{matrix}\\\\\n",
    "\\end{array} \\right] \n",
    "=\\left[ \\begin{array}{c}\n",
    "    \\begin{matrix}\n",
    "        b & a \\\\\n",
    "        d & c \\\\\n",
    "    \\end{matrix}\\\\\n",
    "\\end{array} \\right] \n",
    "$"
   ]
  },
  {
   "cell_type": "markdown",
   "id": "44eb65b7-3c8d-4e12-acee-c7c114ec6aac",
   "metadata": {
    "jp-MarkdownHeadingCollapsed": true,
    "tags": []
   },
   "source": [
    "### 3.3.2、逆矩阵初探"
   ]
  },
  {
   "cell_type": "markdown",
   "id": "27204fec-48e8-4470-8fcf-05c03f6e5280",
   "metadata": {},
   "source": [
    "可以说我们学会了消元矩阵，就相当于我们可以用矩阵乘法对一个矩阵进行任何变化了，那么我们考虑一个反过程，即我们把一个消元结束的 **矩阵 U** 如何变为 未经消元的 **矩阵 A** 呢？\n",
    "\n",
    "答案就是 **乘上一个逆矩阵**。\n",
    "\n",
    "![逆矩阵初探](../images/02/LA_2_13.png)"
   ]
  },
  {
   "cell_type": "markdown",
   "id": "64e9d77e-0d2d-44a3-9d44-e7b0f87e6ec6",
   "metadata": {
    "tags": []
   },
   "source": [
    "## 4、小结"
   ]
  },
  {
   "cell_type": "markdown",
   "id": "2a670730-8acc-48d1-be9c-348bc4520c1e",
   "metadata": {
    "tags": []
   },
   "source": [
    "\n",
    "这一个章节，我们从矩阵消元的角度，介绍解方程的通用做法，并介绍了消元矩阵，使我们从矩阵乘法层面理解了消元的过程，并延伸了消元矩阵的应用: 就是基于单位阵 I 的变化，对矩阵 A 进行行列变换的过程。\n",
    "\n",
    "本章节的消元法以后会常用到，要熟练掌握才可以。\n",
    "\n",
    "【[上一章：01-方程组的几何解释](../01-方程组的几何解释/01-方程组的几何解释.md)】【[下一章：03-乘法和逆矩阵](../03-乘法和逆矩阵/03-乘法和逆矩阵.md)】\n"
   ]
  }
 ],
 "metadata": {
  "kernelspec": {
   "display_name": "Python 3 (ipykernel)",
   "language": "python",
   "name": "python3"
  },
  "language_info": {
   "codemirror_mode": {
    "name": "ipython",
    "version": 3
   },
   "file_extension": ".py",
   "mimetype": "text/x-python",
   "name": "python",
   "nbconvert_exporter": "python",
   "pygments_lexer": "ipython3",
   "version": "3.9.0"
  }
 },
 "nbformat": 4,
 "nbformat_minor": 5
}
